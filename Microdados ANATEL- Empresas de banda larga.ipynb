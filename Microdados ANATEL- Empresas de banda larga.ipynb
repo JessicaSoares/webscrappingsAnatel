{
 "cells": [
  {
   "attachments": {},
   "cell_type": "markdown",
   "id": "6c0f8e5c",
   "metadata": {},
   "source": [
    "# Carregamento da base de dados"
   ]
  },
  {
   "cell_type": "code",
   "execution_count": 2,
   "id": "0e4d3f7e",
   "metadata": {
    "colab": {
     "base_uri": "https://localhost:8080/"
    },
    "id": "0e4d3f7e",
    "outputId": "56b5b970-4694-44b3-c1d2-54eacf3c695b"
   },
   "outputs": [
    {
     "name": "stdout",
     "output_type": "stream",
     "text": [
      "Importando Bibliotecas...\n",
      "Bibliotecas importadas\n"
     ]
    }
   ],
   "source": [
    "#Importando Bibiliotecas\n",
    "import pandas as pd\n",
    "print('Importando Bibliotecas...')\n",
    "import time\n",
    "import psycopg2\n",
    "import mysql.connector\n",
    "import pandas as pd\n",
    "from sqlalchemy import create_engine\n",
    "import urllib\n",
    "print('Bibliotecas importadas')"
   ]
  },
  {
   "cell_type": "code",
   "execution_count": 36,
   "id": "599c7838",
   "metadata": {
    "colab": {
     "base_uri": "https://localhost:8080/",
     "height": 36
    },
    "id": "599c7838",
    "outputId": "41e19a1f-d430-47dd-e74f-4deeefbba6b9"
   },
   "outputs": [
    {
     "name": "stdout",
     "output_type": "stream",
     "text": [
      "100% [......................................................................] 660081702 / 660081702"
     ]
    },
    {
     "data": {
      "text/plain": [
       "'acessos_banda_larga_fixa.zip'"
      ]
     },
     "execution_count": 36,
     "metadata": {},
     "output_type": "execute_result"
    }
   ],
   "source": [
    "#Baixando dados da anatel de banda larga\n",
    "import wget\n",
    "urlbandalarga ='https://www.anatel.gov.br/dadosabertos/paineis_de_dados/acessos/acessos_banda_larga_fixa.zip'\n",
    "wget.download(urlbandalarga)"
   ]
  },
  {
   "attachments": {},
   "cell_type": "markdown",
   "id": "cab2442a",
   "metadata": {
    "id": "cab2442a"
   },
   "source": [
    "#Download dos dados do site do INEP.\n",
    "import requests\n",
    "import urllib3\n",
    "from zipfile import ZipFile \n",
    "urllib3.disable_warnings()\n",
    "\n",
    "headers={\n",
    "  'Accept':'text/html,application/xhtml+xml,application/xml;q=0.9,image/webp,image/apng,/;q=0.8',\n",
    "  'Accept-Language':'zh-CN,zh;q=0.9,en;q=0.8,ja;q=0.7',\n",
    "  'User-Agent':'Mozilla/5.0 (Windows NT 6.1; Win64; x64) AppleWebKit/537.36 (KHTML, like Gecko) Chrome/68.0.3440.106 Safari/537.36'\n",
    "};\n",
    "\n",
    "\n",
    "nome_arquivo = \"meu_municipio.zip\"\n",
    "url =  \"https://www.anatel.gov.br/dadosabertos/paineis_de_dados/meu_municipio/meu_municipio.zip\"\n",
    "   \n",
    "      \n",
    "r = requests.get(url, headers=headers, verify=False)\n",
    "with open(nome_arquivo, \"wb\") as f:\n",
    "    for chunk in r.iter_content(chunk_size=512): \n",
    "        if chunk:\n",
    "            f.write(chunk) "
   ]
  },
  {
   "attachments": {},
   "cell_type": "markdown",
   "id": "d73e5d0a",
   "metadata": {},
   "source": [
    "# Pré-Analise dos dados"
   ]
  },
  {
   "cell_type": "code",
   "execution_count": 63,
   "id": "02d533f5",
   "metadata": {
    "colab": {
     "base_uri": "https://localhost:8080/"
    },
    "id": "02d533f5",
    "outputId": "7328877b-6842-4f18-b9ea-108fb6bea125",
    "scrolled": true
   },
   "outputs": [
    {
     "name": "stdout",
     "output_type": "stream",
     "text": [
      "O diretório outputanatelacessos não existe!, criando diretório\n",
      "Feito!\n"
     ]
    }
   ],
   "source": [
    "#Descompactação dos arquivos baixados em uma pasta chamada outputanatelacesos/bandalargacolunas/bandalarga.\n",
    "import os\n",
    "import re\n",
    "from zipfile import ZipFile\n",
    "\n",
    "if os.path.isdir(\"outputanatelacessos/bandalarga/colunas\"):\n",
    "    print(\"O diretório outputanatelacessos já existe!\")\n",
    "else:\n",
    "    print(\"O diretório outputanatelacessos não existe!, criando diretório\")\n",
    "    \n",
    "    banda_larga = \"acessos_banda_larga_fixa.zip\"\n",
    "\n",
    "    with ZipFile(banda_larga, 'r') as zip: \n",
    "        zip.extractall('outputanatelacessos/bandalargacolunas/bandalarga') \n",
    "        print('Feito!') \n"
   ]
  },
  {
   "cell_type": "code",
   "execution_count": 59,
   "id": "d391f7ad",
   "metadata": {
    "id": "d391f7ad"
   },
   "outputs": [],
   "source": [
    "#Movendo os arquivos para as suas respectivas pastas\n",
    "import os\n",
    "\n",
    "lista_arquivos = os.listdir(\"outputanatelacessos/bandalargacolunas/bandalarga/\")\n",
    "\n",
    "for arquivo in lista_arquivos:\n",
    "            if 'Colunas' in arquivo:\n",
    "                os.rename('outputanatelacessos/bandalargacolunas/bandalarga/' + arquivo, f'outputanatelacessos/bandalargacolunas/'+arquivo)\n",
    "\n",
    "\n",
    "       "
   ]
  },
  {
   "cell_type": "code",
   "execution_count": 60,
   "id": "739de790",
   "metadata": {
    "colab": {
     "base_uri": "https://localhost:8080/"
    },
    "id": "739de790",
    "outputId": "43962430-0234-4d47-855a-c543f7bccd77"
   },
   "outputs": [
    {
     "name": "stdout",
     "output_type": "stream",
     "text": [
      "          Ano  Mês   Grupo Econômico Empresa            CNPJ   \n",
      "243      2010   12  TELECOM AMERICAS   CLARO  33530486000129  \\\n",
      "323      2010   12  TELECOM AMERICAS   CLARO  33530486000129   \n",
      "340      2010   12  TELECOM AMERICAS   CLARO  33530486000129   \n",
      "379      2010   12  TELECOM AMERICAS   CLARO  33530486000129   \n",
      "414      2010   12  TELECOM AMERICAS   CLARO  33530486000129   \n",
      "...       ...  ...               ...     ...             ...   \n",
      "1144359  2023    1                OI      OI  76535764000143   \n",
      "1144361  2023    1                OI      OI  76535764000143   \n",
      "1144461  2023    1                OI      OI  76535764000143   \n",
      "1144565  2023    1                OI      OI  76535764000143   \n",
      "1144571  2023    1                OI      OI  76535764000143   \n",
      "\n",
      "        Porte da Prestadora  UF     Município  Código IBGE Município   \n",
      "243            Grande Porte  PA     Castanhal                1502400  \\\n",
      "323            Grande Porte  PA         Soure                1507904   \n",
      "340            Grande Porte  PA         Soure                1507904   \n",
      "379            Grande Porte  PA   Paragominas                1505502   \n",
      "414            Grande Porte  PA       Tucuruí                1508100   \n",
      "...                     ...  ..           ...                    ...   \n",
      "1144359        Grande Porte  PA          Faro                1503002   \n",
      "1144361        Grande Porte  PA  Porto de Moz                1505908   \n",
      "1144461        Grande Porte  PA      Sapucaia                1507755   \n",
      "1144565        Grande Porte  PA    Curralinho                1502806   \n",
      "1144571        Grande Porte  PA         Muaná                1504901   \n",
      "\n",
      "        Faixa de Velocidade Tecnologia Meio de Acesso  Acessos Velocidade   \n",
      "243         512kbps a 2Mbps       xDSL  Cabo Metálico     25.0        NaN  \\\n",
      "323          0Kbps a 64Kbps       xDSL  Cabo Metálico      3.0        NaN   \n",
      "340        64Kbps a 512Kbps       xDSL  Cabo Metálico      1.0        NaN   \n",
      "379         512kbps a 2Mbps       xDSL  Cabo Metálico     35.0        NaN   \n",
      "414         512kbps a 2Mbps       xDSL  Cabo Metálico      2.0        NaN   \n",
      "...                     ...        ...            ...      ...        ...   \n",
      "1144359     0Kbps a 512Kbps      ADSL1  Cabo Metálico      4.0   0,500000   \n",
      "1144361     512kbps a 2Mbps      ADSL1  Cabo Metálico      5.0   2,000000   \n",
      "1144461     12Mbps a 34Mbps      ADSL2  Cabo Metálico      5.0  15,000000   \n",
      "1144565     512kbps a 2Mbps       HDSL  Cabo Metálico      1.0   2,000000   \n",
      "1144571     512kbps a 2Mbps       HDSL  Cabo Metálico      1.0   2,000000   \n",
      "\n",
      "          Tipo de Pessoa Tipo de Produto  \n",
      "243                  NaN             NaN  \n",
      "323                  NaN             NaN  \n",
      "340                  NaN             NaN  \n",
      "379                  NaN             NaN  \n",
      "414                  NaN             NaN  \n",
      "...                  ...             ...  \n",
      "1144359  Pessoa Jurídica        INTERNET  \n",
      "1144361  Pessoa Jurídica        INTERNET  \n",
      "1144461    Pessoa Física        INTERNET  \n",
      "1144565  Pessoa Jurídica  LINHA_DEDICADA  \n",
      "1144571  Pessoa Jurídica  LINHA_DEDICADA  \n",
      "\n",
      "[753480 rows x 16 columns]\n"
     ]
    }
   ],
   "source": [
    "#Concatenando os dados de acesso banda larga fixa do estado do Pará\n",
    "import glob\n",
    "import pandas as pd\n",
    "arquivos = glob.glob('outputanatelacessos/bandalargacolunas/bandalarga/Acessos_Banda_Larga_Fixa_2*')\n",
    "array_df = []\n",
    "\n",
    "for x in arquivos:\n",
    "    temp_df = pd.read_csv(x ,encoding=\"UTF-8\", sep=';', low_memory=False)\n",
    "    dataframe = pd.DataFrame(temp_df)\n",
    "    rslt_df = dataframe[temp_df['UF'] == 'PA' ]\n",
    "    array_df.append(rslt_df)\n",
    "\n",
    "df = pd.concat(array_df, axis=0, )\n",
    "\n",
    "print(df)\n"
   ]
  },
  {
   "attachments": {},
   "cell_type": "markdown",
   "id": "c87e2008",
   "metadata": {},
   "source": [
    "# Ajuste na tipagem dos dados"
   ]
  },
  {
   "cell_type": "code",
   "execution_count": 61,
   "id": "cc3122c5",
   "metadata": {
    "colab": {
     "base_uri": "https://localhost:8080/"
    },
    "id": "cc3122c5",
    "outputId": "d4dc48ce-45a0-4a20-880a-64c59492ca55"
   },
   "outputs": [
    {
     "name": "stdout",
     "output_type": "stream",
     "text": [
      "ano\n",
      "mes\n",
      "grupo_economico\n",
      "empresa\n",
      "cnpj\n",
      "porte_da_prestadora\n",
      "uf\n",
      "municipio\n",
      "codigo_ibge_municipio\n",
      "faixa_de_velocidade\n",
      "tecnologia\n",
      "meio_de_acesso\n",
      "acessos\n",
      "velocidade\n",
      "tipo_de_pessoa\n",
      "tipo_de_produto\n",
      "['ano', 'mes', 'grupo_economico', 'empresa', 'cnpj', 'porte_da_prestadora', 'uf', 'municipio', 'codigo_ibge_municipio', 'faixa_de_velocidade', 'tecnologia', 'meio_de_acesso', 'acessos', 'velocidade', 'tipo_de_pessoa', 'tipo_de_produto']\n",
      "          ano  mes   grupo_economico empresa            cnpj   \n",
      "243      2010   12  TELECOM AMERICAS   CLARO  33530486000129  \\\n",
      "323      2010   12  TELECOM AMERICAS   CLARO  33530486000129   \n",
      "340      2010   12  TELECOM AMERICAS   CLARO  33530486000129   \n",
      "379      2010   12  TELECOM AMERICAS   CLARO  33530486000129   \n",
      "414      2010   12  TELECOM AMERICAS   CLARO  33530486000129   \n",
      "...       ...  ...               ...     ...             ...   \n",
      "1144359  2023    1                OI      OI  76535764000143   \n",
      "1144361  2023    1                OI      OI  76535764000143   \n",
      "1144461  2023    1                OI      OI  76535764000143   \n",
      "1144565  2023    1                OI      OI  76535764000143   \n",
      "1144571  2023    1                OI      OI  76535764000143   \n",
      "\n",
      "        porte_da_prestadora  uf     municipio  codigo_ibge_municipio   \n",
      "243            Grande Porte  PA     Castanhal                1502400  \\\n",
      "323            Grande Porte  PA         Soure                1507904   \n",
      "340            Grande Porte  PA         Soure                1507904   \n",
      "379            Grande Porte  PA   Paragominas                1505502   \n",
      "414            Grande Porte  PA       Tucuruí                1508100   \n",
      "...                     ...  ..           ...                    ...   \n",
      "1144359        Grande Porte  PA          Faro                1503002   \n",
      "1144361        Grande Porte  PA  Porto de Moz                1505908   \n",
      "1144461        Grande Porte  PA      Sapucaia                1507755   \n",
      "1144565        Grande Porte  PA    Curralinho                1502806   \n",
      "1144571        Grande Porte  PA         Muaná                1504901   \n",
      "\n",
      "        faixa_de_velocidade tecnologia meio_de_acesso  acessos velocidade   \n",
      "243         512kbps a 2Mbps       xDSL  Cabo Metálico     25.0        NaN  \\\n",
      "323          0Kbps a 64Kbps       xDSL  Cabo Metálico      3.0        NaN   \n",
      "340        64Kbps a 512Kbps       xDSL  Cabo Metálico      1.0        NaN   \n",
      "379         512kbps a 2Mbps       xDSL  Cabo Metálico     35.0        NaN   \n",
      "414         512kbps a 2Mbps       xDSL  Cabo Metálico      2.0        NaN   \n",
      "...                     ...        ...            ...      ...        ...   \n",
      "1144359     0Kbps a 512Kbps      ADSL1  Cabo Metálico      4.0   0,500000   \n",
      "1144361     512kbps a 2Mbps      ADSL1  Cabo Metálico      5.0   2,000000   \n",
      "1144461     12Mbps a 34Mbps      ADSL2  Cabo Metálico      5.0  15,000000   \n",
      "1144565     512kbps a 2Mbps       HDSL  Cabo Metálico      1.0   2,000000   \n",
      "1144571     512kbps a 2Mbps       HDSL  Cabo Metálico      1.0   2,000000   \n",
      "\n",
      "          tipo_de_pessoa tipo_de_produto  \n",
      "243                  NaN             NaN  \n",
      "323                  NaN             NaN  \n",
      "340                  NaN             NaN  \n",
      "379                  NaN             NaN  \n",
      "414                  NaN             NaN  \n",
      "...                  ...             ...  \n",
      "1144359  Pessoa Jurídica        INTERNET  \n",
      "1144361  Pessoa Jurídica        INTERNET  \n",
      "1144461    Pessoa Física        INTERNET  \n",
      "1144565  Pessoa Jurídica  LINHA_DEDICADA  \n",
      "1144571  Pessoa Jurídica  LINHA_DEDICADA  \n",
      "\n",
      "[753480 rows x 16 columns]\n"
     ]
    }
   ],
   "source": [
    "#deixando as colunas em caixa baixa e substituindo espaços \n",
    "from unidecode import unidecode\n",
    "teste = list(df.columns)\n",
    "colunas =[]\n",
    "for x in teste:\n",
    "    semmaiuscula = unidecode(x.lower())\n",
    "    repl = semmaiuscula.replace(\" \", \"_\")\n",
    "    print(repl)\n",
    "    colunas.append(repl)\n",
    "    \n",
    "print(colunas)\n",
    "\n",
    "df.columns = colunas\n",
    "print(df)"
   ]
  },
  {
   "cell_type": "code",
   "execution_count": 64,
   "id": "c643aac5",
   "metadata": {
    "colab": {
     "base_uri": "https://localhost:8080/"
    },
    "id": "c643aac5",
    "outputId": "1621ad11-27eb-4498-b354-50d759589977"
   },
   "outputs": [
    {
     "data": {
      "text/plain": [
       "ano                        int32\n",
       "mes                        int32\n",
       "grupo_economico           object\n",
       "empresa                   object\n",
       "cnpj                       int64\n",
       "porte_da_prestadora       object\n",
       "uf                        object\n",
       "municipio                 object\n",
       "codigo_ibge_municipio      int64\n",
       "faixa_de_velocidade       object\n",
       "tecnologia                object\n",
       "meio_de_acesso            object\n",
       "acessos                  float64\n",
       "velocidade                object\n",
       "tipo_de_pessoa            object\n",
       "tipo_de_produto           object\n",
       "dtype: object"
      ]
     },
     "execution_count": 64,
     "metadata": {},
     "output_type": "execute_result"
    }
   ],
   "source": [
    "#Alterando tipo de dados para tipo certo\n",
    "df.replace({None: 0}, regex=True, inplace=True)\n",
    "\n",
    "data_types_dict = {'ano': int}\n",
    "data_types_dict1 = {'mes': int}\n",
    "\n",
    "df = df.astype(data_types_dict)\n",
    "df = df.astype(data_types_dict1)\n",
    "\n",
    "\n",
    "df.dtypes\n"
   ]
  },
  {
   "cell_type": "code",
   "execution_count": 65,
   "id": "2be4d637",
   "metadata": {},
   "outputs": [
    {
     "data": {
      "text/html": [
       "<div>\n",
       "<style scoped>\n",
       "    .dataframe tbody tr th:only-of-type {\n",
       "        vertical-align: middle;\n",
       "    }\n",
       "\n",
       "    .dataframe tbody tr th {\n",
       "        vertical-align: top;\n",
       "    }\n",
       "\n",
       "    .dataframe thead th {\n",
       "        text-align: right;\n",
       "    }\n",
       "</style>\n",
       "<table border=\"1\" class=\"dataframe\">\n",
       "  <thead>\n",
       "    <tr style=\"text-align: right;\">\n",
       "      <th></th>\n",
       "      <th>ano</th>\n",
       "      <th>mes</th>\n",
       "      <th>grupo_economico</th>\n",
       "      <th>empresa</th>\n",
       "      <th>cnpj</th>\n",
       "      <th>porte_da_prestadora</th>\n",
       "      <th>uf</th>\n",
       "      <th>municipio</th>\n",
       "      <th>codigo_ibge_municipio</th>\n",
       "      <th>faixa_de_velocidade</th>\n",
       "      <th>tecnologia</th>\n",
       "      <th>meio_de_acesso</th>\n",
       "      <th>acessos</th>\n",
       "      <th>velocidade</th>\n",
       "      <th>tipo_de_pessoa</th>\n",
       "      <th>tipo_de_produto</th>\n",
       "    </tr>\n",
       "  </thead>\n",
       "  <tbody>\n",
       "    <tr>\n",
       "      <th>243</th>\n",
       "      <td>2010</td>\n",
       "      <td>12</td>\n",
       "      <td>telecom americas</td>\n",
       "      <td>claro</td>\n",
       "      <td>33530486000129</td>\n",
       "      <td>Grande Porte</td>\n",
       "      <td>PA</td>\n",
       "      <td>Castanhal</td>\n",
       "      <td>1502400</td>\n",
       "      <td>512kbps a 2Mbps</td>\n",
       "      <td>xDSL</td>\n",
       "      <td>Cabo Metálico</td>\n",
       "      <td>25.0</td>\n",
       "      <td>0</td>\n",
       "      <td>0</td>\n",
       "      <td>NaN</td>\n",
       "    </tr>\n",
       "    <tr>\n",
       "      <th>323</th>\n",
       "      <td>2010</td>\n",
       "      <td>12</td>\n",
       "      <td>telecom americas</td>\n",
       "      <td>claro</td>\n",
       "      <td>33530486000129</td>\n",
       "      <td>Grande Porte</td>\n",
       "      <td>PA</td>\n",
       "      <td>Soure</td>\n",
       "      <td>1507904</td>\n",
       "      <td>0Kbps a 64Kbps</td>\n",
       "      <td>xDSL</td>\n",
       "      <td>Cabo Metálico</td>\n",
       "      <td>3.0</td>\n",
       "      <td>0</td>\n",
       "      <td>0</td>\n",
       "      <td>NaN</td>\n",
       "    </tr>\n",
       "    <tr>\n",
       "      <th>340</th>\n",
       "      <td>2010</td>\n",
       "      <td>12</td>\n",
       "      <td>telecom americas</td>\n",
       "      <td>claro</td>\n",
       "      <td>33530486000129</td>\n",
       "      <td>Grande Porte</td>\n",
       "      <td>PA</td>\n",
       "      <td>Soure</td>\n",
       "      <td>1507904</td>\n",
       "      <td>64Kbps a 512Kbps</td>\n",
       "      <td>xDSL</td>\n",
       "      <td>Cabo Metálico</td>\n",
       "      <td>1.0</td>\n",
       "      <td>0</td>\n",
       "      <td>0</td>\n",
       "      <td>NaN</td>\n",
       "    </tr>\n",
       "    <tr>\n",
       "      <th>379</th>\n",
       "      <td>2010</td>\n",
       "      <td>12</td>\n",
       "      <td>telecom americas</td>\n",
       "      <td>claro</td>\n",
       "      <td>33530486000129</td>\n",
       "      <td>Grande Porte</td>\n",
       "      <td>PA</td>\n",
       "      <td>Paragominas</td>\n",
       "      <td>1505502</td>\n",
       "      <td>512kbps a 2Mbps</td>\n",
       "      <td>xDSL</td>\n",
       "      <td>Cabo Metálico</td>\n",
       "      <td>35.0</td>\n",
       "      <td>0</td>\n",
       "      <td>0</td>\n",
       "      <td>NaN</td>\n",
       "    </tr>\n",
       "    <tr>\n",
       "      <th>414</th>\n",
       "      <td>2010</td>\n",
       "      <td>12</td>\n",
       "      <td>telecom americas</td>\n",
       "      <td>claro</td>\n",
       "      <td>33530486000129</td>\n",
       "      <td>Grande Porte</td>\n",
       "      <td>PA</td>\n",
       "      <td>Tucuruí</td>\n",
       "      <td>1508100</td>\n",
       "      <td>512kbps a 2Mbps</td>\n",
       "      <td>xDSL</td>\n",
       "      <td>Cabo Metálico</td>\n",
       "      <td>2.0</td>\n",
       "      <td>0</td>\n",
       "      <td>0</td>\n",
       "      <td>NaN</td>\n",
       "    </tr>\n",
       "  </tbody>\n",
       "</table>\n",
       "</div>"
      ],
      "text/plain": [
       "      ano  mes   grupo_economico empresa            cnpj porte_da_prestadora   \n",
       "243  2010   12  telecom americas   claro  33530486000129        Grande Porte  \\\n",
       "323  2010   12  telecom americas   claro  33530486000129        Grande Porte   \n",
       "340  2010   12  telecom americas   claro  33530486000129        Grande Porte   \n",
       "379  2010   12  telecom americas   claro  33530486000129        Grande Porte   \n",
       "414  2010   12  telecom americas   claro  33530486000129        Grande Porte   \n",
       "\n",
       "     uf    municipio  codigo_ibge_municipio faixa_de_velocidade tecnologia   \n",
       "243  PA    Castanhal                1502400     512kbps a 2Mbps       xDSL  \\\n",
       "323  PA        Soure                1507904      0Kbps a 64Kbps       xDSL   \n",
       "340  PA        Soure                1507904    64Kbps a 512Kbps       xDSL   \n",
       "379  PA  Paragominas                1505502     512kbps a 2Mbps       xDSL   \n",
       "414  PA      Tucuruí                1508100     512kbps a 2Mbps       xDSL   \n",
       "\n",
       "    meio_de_acesso  acessos velocidade tipo_de_pessoa tipo_de_produto  \n",
       "243  Cabo Metálico     25.0          0              0             NaN  \n",
       "323  Cabo Metálico      3.0          0              0             NaN  \n",
       "340  Cabo Metálico      1.0          0              0             NaN  \n",
       "379  Cabo Metálico     35.0          0              0             NaN  \n",
       "414  Cabo Metálico      2.0          0              0             NaN  "
      ]
     },
     "execution_count": 65,
     "metadata": {},
     "output_type": "execute_result"
    }
   ],
   "source": [
    "#Alterando colunas para nomes minusculos\n",
    "df['empresa'] = df['empresa'].str.lower()\n",
    "df['tipo_de_produto'] = df['tipo_de_produto'].str.lower()\n",
    "df['grupo_economico'] = df['grupo_economico'].str.lower()\n",
    "df.head()"
   ]
  },
  {
   "cell_type": "code",
   "execution_count": 66,
   "id": "a98daca4",
   "metadata": {},
   "outputs": [],
   "source": [
    "df.replace({'win time ltda': 'Flexanet'}, regex=True, inplace=True)"
   ]
  },
  {
   "cell_type": "code",
   "execution_count": 67,
   "id": "3bc6ba91",
   "metadata": {},
   "outputs": [],
   "source": [
    "df.replace({'ags telecom ltda - me': 'Link One Telecom'}, regex=True, inplace=True)\n"
   ]
  },
  {
   "cell_type": "code",
   "execution_count": 68,
   "id": "9b3989a3",
   "metadata": {},
   "outputs": [],
   "source": [
    "df.replace({'coelho tecnologia eireli': 'Coelho Tecnologia'}, regex=True, inplace=True)\n"
   ]
  },
  {
   "cell_type": "code",
   "execution_count": 69,
   "id": "0f280515",
   "metadata": {},
   "outputs": [],
   "source": [
    "df.replace({'garra telecom ltda me': 'Garra Telecom'}, regex=True, inplace=True)\n"
   ]
  },
  {
   "cell_type": "code",
   "execution_count": 70,
   "id": "7d5ad1ee",
   "metadata": {},
   "outputs": [],
   "source": [
    "df.replace({'concourse telecomunicacoes brasil ltda.': 'Concourse Telecomunicações brasil'}, regex=True, inplace=True)\n"
   ]
  },
  {
   "cell_type": "code",
   "execution_count": 71,
   "id": "6c303782",
   "metadata": {},
   "outputs": [],
   "source": [
    "df.replace({'jupiter telecomunicacoes e informatica ltda': 'Júpiter'}, regex=True, inplace=True)\n"
   ]
  },
  {
   "cell_type": "code",
   "execution_count": 72,
   "id": "773f7c14",
   "metadata": {},
   "outputs": [],
   "source": [
    "df.replace({'oi': 'Oi'}, regex=True, inplace=True)\n"
   ]
  },
  {
   "cell_type": "code",
   "execution_count": 73,
   "id": "37789869",
   "metadata": {},
   "outputs": [],
   "source": [
    "df.replace({'rede de telecomunicacoes carajas eireli': 'CarajásNet'}, regex=True, inplace=True)\n"
   ]
  },
  {
   "cell_type": "code",
   "execution_count": 74,
   "id": "cfb9ff88",
   "metadata": {},
   "outputs": [],
   "source": [
    "\n",
    "df.replace({'velocitynet telecom eireli - epp': 'VelocyNet'}, regex=True, inplace=True)"
   ]
  },
  {
   "cell_type": "code",
   "execution_count": 75,
   "id": "8dbab0ff",
   "metadata": {},
   "outputs": [],
   "source": [
    "df.replace({'wkve-asses. em serv. de inf. e telecomunicacoes ltda': 'WKVE'}, regex=True, inplace=True)"
   ]
  },
  {
   "cell_type": "code",
   "execution_count": 76,
   "id": "62bc2f2c",
   "metadata": {},
   "outputs": [
    {
     "data": {
      "text/html": [
       "<div>\n",
       "<style scoped>\n",
       "    .dataframe tbody tr th:only-of-type {\n",
       "        vertical-align: middle;\n",
       "    }\n",
       "\n",
       "    .dataframe tbody tr th {\n",
       "        vertical-align: top;\n",
       "    }\n",
       "\n",
       "    .dataframe thead th {\n",
       "        text-align: right;\n",
       "    }\n",
       "</style>\n",
       "<table border=\"1\" class=\"dataframe\">\n",
       "  <thead>\n",
       "    <tr style=\"text-align: right;\">\n",
       "      <th></th>\n",
       "      <th>ano</th>\n",
       "      <th>mes</th>\n",
       "      <th>grupo_economico</th>\n",
       "      <th>empresa</th>\n",
       "      <th>cnpj</th>\n",
       "      <th>porte_da_prestadora</th>\n",
       "      <th>uf</th>\n",
       "      <th>municipio</th>\n",
       "      <th>codigo_ibge_municipio</th>\n",
       "      <th>faixa_de_velocidade</th>\n",
       "      <th>tecnologia</th>\n",
       "      <th>meio_de_acesso</th>\n",
       "      <th>acessos</th>\n",
       "      <th>velocidade</th>\n",
       "      <th>tipo_de_pessoa</th>\n",
       "      <th>tipo_de_produto</th>\n",
       "    </tr>\n",
       "  </thead>\n",
       "  <tbody>\n",
       "    <tr>\n",
       "      <th>243</th>\n",
       "      <td>2010</td>\n",
       "      <td>12</td>\n",
       "      <td>telecom americas</td>\n",
       "      <td>claro</td>\n",
       "      <td>33530486000129</td>\n",
       "      <td>Grande Porte</td>\n",
       "      <td>PA</td>\n",
       "      <td>Castanhal</td>\n",
       "      <td>1502400</td>\n",
       "      <td>512kbps a 2Mbps</td>\n",
       "      <td>xDSL</td>\n",
       "      <td>Cabo Metálico</td>\n",
       "      <td>25.0</td>\n",
       "      <td>0</td>\n",
       "      <td>0</td>\n",
       "      <td>NaN</td>\n",
       "    </tr>\n",
       "    <tr>\n",
       "      <th>323</th>\n",
       "      <td>2010</td>\n",
       "      <td>12</td>\n",
       "      <td>telecom americas</td>\n",
       "      <td>claro</td>\n",
       "      <td>33530486000129</td>\n",
       "      <td>Grande Porte</td>\n",
       "      <td>PA</td>\n",
       "      <td>Soure</td>\n",
       "      <td>1507904</td>\n",
       "      <td>0Kbps a 64Kbps</td>\n",
       "      <td>xDSL</td>\n",
       "      <td>Cabo Metálico</td>\n",
       "      <td>3.0</td>\n",
       "      <td>0</td>\n",
       "      <td>0</td>\n",
       "      <td>NaN</td>\n",
       "    </tr>\n",
       "    <tr>\n",
       "      <th>340</th>\n",
       "      <td>2010</td>\n",
       "      <td>12</td>\n",
       "      <td>telecom americas</td>\n",
       "      <td>claro</td>\n",
       "      <td>33530486000129</td>\n",
       "      <td>Grande Porte</td>\n",
       "      <td>PA</td>\n",
       "      <td>Soure</td>\n",
       "      <td>1507904</td>\n",
       "      <td>64Kbps a 512Kbps</td>\n",
       "      <td>xDSL</td>\n",
       "      <td>Cabo Metálico</td>\n",
       "      <td>1.0</td>\n",
       "      <td>0</td>\n",
       "      <td>0</td>\n",
       "      <td>NaN</td>\n",
       "    </tr>\n",
       "    <tr>\n",
       "      <th>379</th>\n",
       "      <td>2010</td>\n",
       "      <td>12</td>\n",
       "      <td>telecom americas</td>\n",
       "      <td>claro</td>\n",
       "      <td>33530486000129</td>\n",
       "      <td>Grande Porte</td>\n",
       "      <td>PA</td>\n",
       "      <td>Paragominas</td>\n",
       "      <td>1505502</td>\n",
       "      <td>512kbps a 2Mbps</td>\n",
       "      <td>xDSL</td>\n",
       "      <td>Cabo Metálico</td>\n",
       "      <td>35.0</td>\n",
       "      <td>0</td>\n",
       "      <td>0</td>\n",
       "      <td>NaN</td>\n",
       "    </tr>\n",
       "    <tr>\n",
       "      <th>414</th>\n",
       "      <td>2010</td>\n",
       "      <td>12</td>\n",
       "      <td>telecom americas</td>\n",
       "      <td>claro</td>\n",
       "      <td>33530486000129</td>\n",
       "      <td>Grande Porte</td>\n",
       "      <td>PA</td>\n",
       "      <td>Tucuruí</td>\n",
       "      <td>1508100</td>\n",
       "      <td>512kbps a 2Mbps</td>\n",
       "      <td>xDSL</td>\n",
       "      <td>Cabo Metálico</td>\n",
       "      <td>2.0</td>\n",
       "      <td>0</td>\n",
       "      <td>0</td>\n",
       "      <td>NaN</td>\n",
       "    </tr>\n",
       "  </tbody>\n",
       "</table>\n",
       "</div>"
      ],
      "text/plain": [
       "      ano  mes   grupo_economico empresa            cnpj porte_da_prestadora   \n",
       "243  2010   12  telecom americas   claro  33530486000129        Grande Porte  \\\n",
       "323  2010   12  telecom americas   claro  33530486000129        Grande Porte   \n",
       "340  2010   12  telecom americas   claro  33530486000129        Grande Porte   \n",
       "379  2010   12  telecom americas   claro  33530486000129        Grande Porte   \n",
       "414  2010   12  telecom americas   claro  33530486000129        Grande Porte   \n",
       "\n",
       "     uf    municipio  codigo_ibge_municipio faixa_de_velocidade tecnologia   \n",
       "243  PA    Castanhal                1502400     512kbps a 2Mbps       xDSL  \\\n",
       "323  PA        Soure                1507904      0Kbps a 64Kbps       xDSL   \n",
       "340  PA        Soure                1507904    64Kbps a 512Kbps       xDSL   \n",
       "379  PA  Paragominas                1505502     512kbps a 2Mbps       xDSL   \n",
       "414  PA      Tucuruí                1508100     512kbps a 2Mbps       xDSL   \n",
       "\n",
       "    meio_de_acesso  acessos velocidade tipo_de_pessoa tipo_de_produto  \n",
       "243  Cabo Metálico     25.0          0              0             NaN  \n",
       "323  Cabo Metálico      3.0          0              0             NaN  \n",
       "340  Cabo Metálico      1.0          0              0             NaN  \n",
       "379  Cabo Metálico     35.0          0              0             NaN  \n",
       "414  Cabo Metálico      2.0          0              0             NaN  "
      ]
     },
     "execution_count": 76,
     "metadata": {},
     "output_type": "execute_result"
    }
   ],
   "source": [
    "df.head()"
   ]
  },
  {
   "cell_type": "code",
   "execution_count": null,
   "id": "934858d0",
   "metadata": {
    "id": "934858d0"
   },
   "outputs": [],
   "source": [
    "\n"
   ]
  },
  {
   "cell_type": "code",
   "execution_count": null,
   "id": "7d346d5f",
   "metadata": {
    "id": "7d346d5f"
   },
   "outputs": [],
   "source": []
  }
 ],
 "metadata": {
  "colab": {
   "provenance": []
  },
  "interpreter": {
   "hash": "31c343df0307e317f338e13842f1848929a1168821279cd78d86c2cef5573c6f"
  },
  "kernelspec": {
   "display_name": "Python 3 (ipykernel)",
   "language": "python",
   "name": "python3"
  },
  "language_info": {
   "codemirror_mode": {
    "name": "ipython",
    "version": 3
   },
   "file_extension": ".py",
   "mimetype": "text/x-python",
   "name": "python",
   "nbconvert_exporter": "python",
   "pygments_lexer": "ipython3",
   "version": "3.11.3"
  }
 },
 "nbformat": 4,
 "nbformat_minor": 5
}
